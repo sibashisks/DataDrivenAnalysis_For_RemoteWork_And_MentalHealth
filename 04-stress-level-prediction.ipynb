{
 "cells": [
  {
   "cell_type": "code",
   "execution_count": 1,
   "id": "cb680c66-ae11-4bd9-afcf-30bb11f85217",
   "metadata": {},
   "outputs": [],
   "source": [
    "# This notebook includes model developement with target variable as Stress_Level"
   ]
  },
  {
   "cell_type": "code",
   "execution_count": 2,
   "id": "b74eb2e0-0a56-4077-bce2-045c8f4b3534",
   "metadata": {},
   "outputs": [],
   "source": [
    "import pandas as pd\n",
    "from sklearn.model_selection import train_test_split, cross_val_score\n",
    "from sklearn.metrics import classification_report, confusion_matrix, accuracy_score"
   ]
  },
  {
   "cell_type": "code",
   "execution_count": 3,
   "id": "eaf51c0a-9dd4-4021-a634-037c78b26628",
   "metadata": {},
   "outputs": [],
   "source": [
    "file_path = 'Data/Cleaned_Impact_of_Remote_Work_on_Mental_Health.csv'\n",
    "df = pd.read_csv(file_path)"
   ]
  },
  {
   "cell_type": "markdown",
   "id": "8c5e88ca-984d-402a-ae67-3ee7d233162e",
   "metadata": {},
   "source": [
    "#### Remove outliers"
   ]
  },
  {
   "cell_type": "code",
   "execution_count": 4,
   "id": "77a401da-7ecc-4340-bcba-5e41a407c35b",
   "metadata": {},
   "outputs": [],
   "source": [
    "df = df.drop(df[(df['Stress_Level'] == 'High') & (df['Work_Life_Balance_Rating'] == 5)].index)\n",
    "df = df.drop(df[(df['Stress_Level'] == 'Low') & (df['Work_Life_Balance_Rating'] == 1)].index)"
   ]
  },
  {
   "cell_type": "markdown",
   "id": "1231fb62-0e34-47be-b7c3-ba0b6c4f9d98",
   "metadata": {},
   "source": [
    "#### Encoding"
   ]
  },
  {
   "cell_type": "code",
   "execution_count": 5,
   "id": "9e759067-8923-4ef2-b91f-64f59d782d29",
   "metadata": {},
   "outputs": [],
   "source": [
    "df['Satisfaction_with_Remote_Work_Encoded'] = df['Satisfaction_with_Remote_Work'].apply(lambda x: 1 if x == 'Satisfied' else 0)"
   ]
  },
  {
   "cell_type": "code",
   "execution_count": 6,
   "id": "1cf3e722-a7c0-42e0-95e3-a7ddd6011296",
   "metadata": {},
   "outputs": [],
   "source": [
    "df['Sleep_Quality_Encoded'] = df['Sleep_Quality'].apply(lambda x: 2 if x == 'Good' else (1 if x == 'Average' else 0))"
   ]
  },
  {
   "cell_type": "code",
   "execution_count": 7,
   "id": "c5d34637-2c8e-4611-95af-1f19d5681287",
   "metadata": {},
   "outputs": [],
   "source": [
    "def classify_stress(row):\n",
    "    if row['Stress_Level'] == 'High':\n",
    "        return 1\n",
    "    elif row['Stress_Level'] == 'Medium' and (row['Work_Life_Balance_Rating'] < 3 or row['Sleep_Quality_Encoded'] == 0):\n",
    "        return 1\n",
    "    else:\n",
    "        return 0\n",
    "\n",
    "df['Stress_Level_Binary'] = df.apply(classify_stress, axis = 1)"
   ]
  },
  {
   "cell_type": "code",
   "execution_count": 8,
   "id": "44f98728-cf1a-4115-9809-8836a15dee23",
   "metadata": {},
   "outputs": [],
   "source": [
    "features_to_drop = ['Stress_Level', 'Employee_ID', 'Satisfaction_with_Remote_Work', 'Sleep_Quality', 'Region', 'Gender', \n",
    "                    'Job_Role', 'Stress_Level_Binary']"
   ]
  },
  {
   "cell_type": "code",
   "execution_count": 9,
   "id": "79ef5081-fac6-4e2a-8325-f4e43bd0c21d",
   "metadata": {},
   "outputs": [],
   "source": [
    "X = pd.get_dummies(df.drop(features_to_drop, axis = 1), drop_first = True)\n",
    "y = df['Stress_Level_Binary']"
   ]
  },
  {
   "cell_type": "code",
   "execution_count": 10,
   "id": "a0f70aee-b972-46e6-854c-f58989933e90",
   "metadata": {},
   "outputs": [],
   "source": [
    "X_train, X_test, y_train, y_test = train_test_split(X, y, test_size = 0.2, random_state = 42)"
   ]
  },
  {
   "cell_type": "code",
   "execution_count": 11,
   "id": "d19bc769-48de-4d57-8eb7-5c458fe5614c",
   "metadata": {},
   "outputs": [
    {
     "name": "stdout",
     "output_type": "stream",
     "text": [
      "Stress_Level_Binary\n",
      "1    1913\n",
      "0    1549\n",
      "Name: count, dtype: int64\n"
     ]
    }
   ],
   "source": [
    "class_distribution = y_train.value_counts()\n",
    "print(class_distribution)"
   ]
  },
  {
   "cell_type": "code",
   "execution_count": 12,
   "id": "3fd7e995-598a-4dce-9e0a-eb20e215dab5",
   "metadata": {},
   "outputs": [
    {
     "data": {
      "text/plain": [
       "np.float64(1.2349903163331182)"
      ]
     },
     "execution_count": 12,
     "metadata": {},
     "output_type": "execute_result"
    }
   ],
   "source": [
    "scale_pos_weight = class_distribution.max() / class_distribution.min()\n",
    "scale_pos_weight"
   ]
  },
  {
   "cell_type": "markdown",
   "id": "008d96e8-4039-4d5e-851a-a81290e67d8c",
   "metadata": {},
   "source": [
    "## Using XGBoost"
   ]
  },
  {
   "cell_type": "markdown",
   "id": "fc8af017-0eac-4c4d-b834-9bf3467dd8af",
   "metadata": {},
   "source": [
    "#### Tuning"
   ]
  },
  {
   "cell_type": "code",
   "execution_count": null,
   "id": "bb4bfed8-0497-48af-8b42-3b2c9ccbf005",
   "metadata": {},
   "outputs": [
    {
     "name": "stdout",
     "output_type": "stream",
     "text": [
      "|   iter    |  target   | colsam... | learni... | max_depth | n_esti... | reg_alpha | reg_la... | subsample |\n",
      "-------------------------------------------------------------------------------------------------------------\n",
      "| \u001b[39m1        \u001b[39m | \u001b[39m0.7111   \u001b[39m | \u001b[39m0.7498   \u001b[39m | \u001b[39m0.09556  \u001b[39m | \u001b[39m8.124    \u001b[39m | \u001b[39m199.7    \u001b[39m | \u001b[39m0.156    \u001b[39m | \u001b[39m0.156    \u001b[39m | \u001b[39m0.4349   \u001b[39m |\n",
      "| \u001b[35m2        \u001b[39m | \u001b[35m0.7377   \u001b[39m | \u001b[35m0.9465   \u001b[39m | \u001b[35m0.0641   \u001b[39m | \u001b[35m7.957    \u001b[39m | \u001b[35m55.15    \u001b[39m | \u001b[35m0.9699   \u001b[39m | \u001b[35m0.8324   \u001b[39m | \u001b[35m0.5274   \u001b[39m |\n",
      "| \u001b[35m3        \u001b[39m | \u001b[35m0.7421   \u001b[39m | \u001b[35m0.6727   \u001b[39m | \u001b[35m0.02651  \u001b[39m | \u001b[35m5.13     \u001b[39m | \u001b[35m181.2    \u001b[39m | \u001b[35m0.4319   \u001b[39m | \u001b[35m0.2912   \u001b[39m | \u001b[35m0.7671   \u001b[39m |\n",
      "| \u001b[39m4        \u001b[39m | \u001b[39m0.7374   \u001b[39m | \u001b[39m0.6558   \u001b[39m | \u001b[39m0.03629  \u001b[39m | \u001b[39m5.565    \u001b[39m | \u001b[39m164.0    \u001b[39m | \u001b[39m0.7852   \u001b[39m | \u001b[39m0.1997   \u001b[39m | \u001b[39m0.7085   \u001b[39m |\n",
      "| \u001b[39m5        \u001b[39m | \u001b[39m0.7241   \u001b[39m | \u001b[39m0.837    \u001b[39m | \u001b[39m0.01418  \u001b[39m | \u001b[39m7.253    \u001b[39m | \u001b[39m92.63    \u001b[39m | \u001b[39m0.06505  \u001b[39m | \u001b[39m0.9489   \u001b[39m | \u001b[39m0.9794   \u001b[39m |\n",
      "| \u001b[35m6        \u001b[39m | \u001b[35m0.7441   \u001b[39m | \u001b[35m0.9234   \u001b[39m | \u001b[35m0.03742  \u001b[39m | \u001b[35m3.684    \u001b[39m | \u001b[35m221.1    \u001b[39m | \u001b[35m0.4402   \u001b[39m | \u001b[35m0.122    \u001b[39m | \u001b[35m0.6971   \u001b[39m |\n",
      "| \u001b[39m7        \u001b[39m | \u001b[39m0.721    \u001b[39m | \u001b[39m0.6138   \u001b[39m | \u001b[39m0.09184  \u001b[39m | \u001b[39m4.811    \u001b[39m | \u001b[39m215.6    \u001b[39m | \u001b[39m0.3117   \u001b[39m | \u001b[39m0.5201   \u001b[39m | \u001b[39m0.728    \u001b[39m |\n",
      "| \u001b[39m8        \u001b[39m | \u001b[39m0.7057   \u001b[39m | \u001b[39m0.6739   \u001b[39m | \u001b[39m0.09726  \u001b[39m | \u001b[39m8.426    \u001b[39m | \u001b[39m284.9    \u001b[39m | \u001b[39m0.8948   \u001b[39m | \u001b[39m0.5979   \u001b[39m | \u001b[39m0.9531   \u001b[39m |\n",
      "| \u001b[35m9        \u001b[39m | \u001b[35m0.7498   \u001b[39m | \u001b[35m0.6354   \u001b[39m | \u001b[35m0.02764  \u001b[39m | \u001b[35m3.317    \u001b[39m | \u001b[35m131.3    \u001b[39m | \u001b[35m0.3887   \u001b[39m | \u001b[35m0.2713   \u001b[39m | \u001b[35m0.8972   \u001b[39m |\n",
      "| \u001b[39m10       \u001b[39m | \u001b[39m0.7392   \u001b[39m | \u001b[39m0.7427   \u001b[39m | \u001b[39m0.03528  \u001b[39m | \u001b[39m6.799    \u001b[39m | \u001b[39m85.23    \u001b[39m | \u001b[39m0.8022   \u001b[39m | \u001b[39m0.07455  \u001b[39m | \u001b[39m0.9921   \u001b[39m |\n",
      "| \u001b[39m11       \u001b[39m | \u001b[39m0.7467   \u001b[39m | \u001b[39m0.9089   \u001b[39m | \u001b[39m0.02788  \u001b[39m | \u001b[39m3.039    \u001b[39m | \u001b[39m253.9    \u001b[39m | \u001b[39m0.7069   \u001b[39m | \u001b[39m0.729    \u001b[39m | \u001b[39m0.8628   \u001b[39m |\n",
      "| \u001b[39m12       \u001b[39m | \u001b[39m0.7389   \u001b[39m | \u001b[39m0.6296   \u001b[39m | \u001b[39m0.04226  \u001b[39m | \u001b[39m3.811    \u001b[39m | \u001b[39m265.8    \u001b[39m | \u001b[39m0.6233   \u001b[39m | \u001b[39m0.3309   \u001b[39m | \u001b[39m0.4381   \u001b[39m |\n",
      "| \u001b[39m13       \u001b[39m | \u001b[39m0.727    \u001b[39m | \u001b[39m0.7244   \u001b[39m | \u001b[39m0.03927  \u001b[39m | \u001b[39m8.107    \u001b[39m | \u001b[39m209.4    \u001b[39m | \u001b[39m0.8872   \u001b[39m | \u001b[39m0.4722   \u001b[39m | \u001b[39m0.4718   \u001b[39m |\n",
      "| \u001b[39m14       \u001b[39m | \u001b[39m0.7184   \u001b[39m | \u001b[39m0.8853   \u001b[39m | \u001b[39m0.07847  \u001b[39m | \u001b[39m6.929    \u001b[39m | \u001b[39m242.7    \u001b[39m | \u001b[39m0.4938   \u001b[39m | \u001b[39m0.5227   \u001b[39m | \u001b[39m0.6565   \u001b[39m |\n",
      "| \u001b[39m15       \u001b[39m | \u001b[39m0.7496   \u001b[39m | \u001b[39m0.6102   \u001b[39m | \u001b[39m0.01971  \u001b[39m | \u001b[39m3.22     \u001b[39m | \u001b[39m209.1    \u001b[39m | \u001b[39m0.3144   \u001b[39m | \u001b[39m0.5086   \u001b[39m | \u001b[39m0.9445   \u001b[39m |\n",
      "| \u001b[39m16       \u001b[39m | \u001b[39m0.7253   \u001b[39m | \u001b[39m0.6997   \u001b[39m | \u001b[39m0.04693  \u001b[39m | \u001b[39m8.289    \u001b[39m | \u001b[39m107.2    \u001b[39m | \u001b[39m0.07698  \u001b[39m | \u001b[39m0.2898   \u001b[39m | \u001b[39m0.4967   \u001b[39m |\n",
      "| \u001b[39m17       \u001b[39m | \u001b[39m0.7132   \u001b[39m | \u001b[39m0.9719   \u001b[39m | \u001b[39m0.08273  \u001b[39m | \u001b[39m7.434    \u001b[39m | \u001b[39m267.9    \u001b[39m | \u001b[39m0.8037   \u001b[39m | \u001b[39m0.1866   \u001b[39m | \u001b[39m0.9355   \u001b[39m |\n",
      "| \u001b[39m18       \u001b[39m | \u001b[39m0.7091   \u001b[39m | \u001b[39m0.8157   \u001b[39m | \u001b[39m0.08267  \u001b[39m | \u001b[39m9.273    \u001b[39m | \u001b[39m129.5    \u001b[39m | \u001b[39m0.1101   \u001b[39m | \u001b[39m0.2279   \u001b[39m | \u001b[39m0.6563   \u001b[39m |\n",
      "| \u001b[39m19       \u001b[39m | \u001b[39m0.7406   \u001b[39m | \u001b[39m0.9272   \u001b[39m | \u001b[39m0.08747  \u001b[39m | \u001b[39m3.049    \u001b[39m | \u001b[39m177.7    \u001b[39m | \u001b[39m0.4174   \u001b[39m | \u001b[39m0.2221   \u001b[39m | \u001b[39m0.4719   \u001b[39m |\n",
      "| \u001b[39m20       \u001b[39m | \u001b[39m0.7189   \u001b[39m | \u001b[39m0.735    \u001b[39m | \u001b[39m0.09486  \u001b[39m | \u001b[39m5.262    \u001b[39m | \u001b[39m179.7    \u001b[39m | \u001b[39m0.703    \u001b[39m | \u001b[39m0.3636   \u001b[39m | \u001b[39m0.9831   \u001b[39m |\n",
      "| \u001b[39m21       \u001b[39m | \u001b[39m0.7484   \u001b[39m | \u001b[39m0.7926   \u001b[39m | \u001b[39m0.02056  \u001b[39m | \u001b[39m3.876    \u001b[39m | \u001b[39m221.4    \u001b[39m | \u001b[39m0.4303   \u001b[39m | \u001b[39m0.2005   \u001b[39m | \u001b[39m0.695    \u001b[39m |\n",
      "| \u001b[39m22       \u001b[39m | \u001b[39m0.7438   \u001b[39m | \u001b[39m0.9316   \u001b[39m | \u001b[39m0.0592   \u001b[39m | \u001b[39m3.019    \u001b[39m | \u001b[39m130.5    \u001b[39m | \u001b[39m0.4991   \u001b[39m | \u001b[39m0.7805   \u001b[39m | \u001b[39m0.8444   \u001b[39m |\n",
      "| \u001b[39m23       \u001b[39m | \u001b[39m0.7397   \u001b[39m | \u001b[39m0.6644   \u001b[39m | \u001b[39m0.06415  \u001b[39m | \u001b[39m3.059    \u001b[39m | \u001b[39m132.1    \u001b[39m | \u001b[39m0.9026   \u001b[39m | \u001b[39m0.9376   \u001b[39m | \u001b[39m0.5255   \u001b[39m |\n",
      "| \u001b[39m24       \u001b[39m | \u001b[39m0.7218   \u001b[39m | \u001b[39m0.8006   \u001b[39m | \u001b[39m0.07152  \u001b[39m | \u001b[39m5.242    \u001b[39m | \u001b[39m221.8    \u001b[39m | \u001b[39m0.4279   \u001b[39m | \u001b[39m0.6037   \u001b[39m | \u001b[39m0.8867   \u001b[39m |\n",
      "| \u001b[39m25       \u001b[39m | \u001b[39m0.7441   \u001b[39m | \u001b[39m0.6983   \u001b[39m | \u001b[39m0.01928  \u001b[39m | \u001b[39m4.074    \u001b[39m | \u001b[39m209.0    \u001b[39m | \u001b[39m0.121    \u001b[39m | \u001b[39m0.02447  \u001b[39m | \u001b[39m0.892    \u001b[39m |\n",
      "| \u001b[39m26       \u001b[39m | \u001b[39m0.7438   \u001b[39m | \u001b[39m0.6161   \u001b[39m | \u001b[39m0.02914  \u001b[39m | \u001b[39m4.323    \u001b[39m | \u001b[39m130.9    \u001b[39m | \u001b[39m0.7406   \u001b[39m | \u001b[39m0.1125   \u001b[39m | \u001b[39m0.8105   \u001b[39m |\n",
      "| \u001b[39m27       \u001b[39m | \u001b[39m0.7461   \u001b[39m | \u001b[39m0.7387   \u001b[39m | \u001b[39m0.03109  \u001b[39m | \u001b[39m3.41     \u001b[39m | \u001b[39m208.0    \u001b[39m | \u001b[39m0.5112   \u001b[39m | \u001b[39m0.6021   \u001b[39m | \u001b[39m0.807    \u001b[39m |\n",
      "| \u001b[39m28       \u001b[39m | \u001b[39m0.734    \u001b[39m | \u001b[39m0.9485   \u001b[39m | \u001b[39m0.08241  \u001b[39m | \u001b[39m3.084    \u001b[39m | \u001b[39m222.0    \u001b[39m | \u001b[39m0.7214   \u001b[39m | \u001b[39m0.4028   \u001b[39m | \u001b[39m0.4516   \u001b[39m |\n",
      "| \u001b[39m29       \u001b[39m | \u001b[39m0.7244   \u001b[39m | \u001b[39m0.6552   \u001b[39m | \u001b[39m0.09942  \u001b[39m | \u001b[39m3.95     \u001b[39m | \u001b[39m208.9    \u001b[39m | \u001b[39m0.8273   \u001b[39m | \u001b[39m0.972    \u001b[39m | \u001b[39m0.4221   \u001b[39m |\n",
      "| \u001b[39m30       \u001b[39m | \u001b[39m0.7363   \u001b[39m | \u001b[39m0.7167   \u001b[39m | \u001b[39m0.09103  \u001b[39m | \u001b[39m4.288    \u001b[39m | \u001b[39m131.6    \u001b[39m | \u001b[39m0.254    \u001b[39m | \u001b[39m0.9662   \u001b[39m | \u001b[39m0.9305   \u001b[39m |\n",
      "| \u001b[39m31       \u001b[39m | \u001b[39m0.727    \u001b[39m | \u001b[39m0.8094   \u001b[39m | \u001b[39m0.08745  \u001b[39m | \u001b[39m4.104    \u001b[39m | \u001b[39m254.2    \u001b[39m | \u001b[39m0.7368   \u001b[39m | \u001b[39m0.67     \u001b[39m | \u001b[39m0.6228   \u001b[39m |\n",
      "| \u001b[39m32       \u001b[39m | \u001b[39m0.7418   \u001b[39m | \u001b[39m0.8313   \u001b[39m | \u001b[39m0.08311  \u001b[39m | \u001b[39m3.565    \u001b[39m | \u001b[39m130.9    \u001b[39m | \u001b[39m0.04701  \u001b[39m | \u001b[39m0.1877   \u001b[39m | \u001b[39m0.9308   \u001b[39m |\n",
      "| \u001b[39m33       \u001b[39m | \u001b[39m0.7377   \u001b[39m | \u001b[39m0.698    \u001b[39m | \u001b[39m0.01311  \u001b[39m | \u001b[39m3.37     \u001b[39m | \u001b[39m130.8    \u001b[39m | \u001b[39m0.9184   \u001b[39m | \u001b[39m0.1743   \u001b[39m | \u001b[39m0.4515   \u001b[39m |\n",
      "| \u001b[39m34       \u001b[39m | \u001b[39m0.7342   \u001b[39m | \u001b[39m0.8596   \u001b[39m | \u001b[39m0.08453  \u001b[39m | \u001b[39m3.008    \u001b[39m | \u001b[39m209.2    \u001b[39m | \u001b[39m0.639    \u001b[39m | \u001b[39m0.107    \u001b[39m | \u001b[39m0.9201   \u001b[39m |\n",
      "| \u001b[39m35       \u001b[39m | \u001b[39m0.7369   \u001b[39m | \u001b[39m0.736    \u001b[39m | \u001b[39m0.08651  \u001b[39m | \u001b[39m3.069    \u001b[39m | \u001b[39m208.5    \u001b[39m | \u001b[39m0.105    \u001b[39m | \u001b[39m0.3209   \u001b[39m | \u001b[39m0.467    \u001b[39m |\n",
      "| \u001b[39m36       \u001b[39m | \u001b[39m0.7397   \u001b[39m | \u001b[39m0.8128   \u001b[39m | \u001b[39m0.07107  \u001b[39m | \u001b[39m3.577    \u001b[39m | \u001b[39m132.0    \u001b[39m | \u001b[39m0.6783   \u001b[39m | \u001b[39m0.1246   \u001b[39m | \u001b[39m0.6905   \u001b[39m |\n",
      "| \u001b[39m37       \u001b[39m | \u001b[39m0.7389   \u001b[39m | \u001b[39m0.6837   \u001b[39m | \u001b[39m0.05099  \u001b[39m | \u001b[39m3.068    \u001b[39m | \u001b[39m209.7    \u001b[39m | \u001b[39m0.2213   \u001b[39m | \u001b[39m0.9386   \u001b[39m | \u001b[39m0.785    \u001b[39m |\n",
      "| \u001b[35m38       \u001b[39m | \u001b[35m0.7501   \u001b[39m | \u001b[35m0.9523   \u001b[39m | \u001b[35m0.02574  \u001b[39m | \u001b[35m3.567    \u001b[39m | \u001b[35m209.3    \u001b[39m | \u001b[35m0.02767  \u001b[39m | \u001b[35m0.3945   \u001b[39m | \u001b[35m0.9413   \u001b[39m |\n",
      "| \u001b[39m39       \u001b[39m | \u001b[39m0.7389   \u001b[39m | \u001b[39m0.9248   \u001b[39m | \u001b[39m0.07335  \u001b[39m | \u001b[39m3.93     \u001b[39m | \u001b[39m207.0    \u001b[39m | \u001b[39m0.1717   \u001b[39m | \u001b[39m0.5892   \u001b[39m | \u001b[39m0.9215   \u001b[39m |\n",
      "| \u001b[39m40       \u001b[39m | \u001b[39m0.7493   \u001b[39m | \u001b[39m0.9701   \u001b[39m | \u001b[39m0.02862  \u001b[39m | \u001b[39m3.138    \u001b[39m | \u001b[39m131.5    \u001b[39m | \u001b[39m0.08378  \u001b[39m | \u001b[39m0.9067   \u001b[39m | \u001b[39m0.6799   \u001b[39m |\n",
      "| \u001b[39m41       \u001b[39m | \u001b[39m0.7397   \u001b[39m | \u001b[39m0.8671   \u001b[39m | \u001b[39m0.05277  \u001b[39m | \u001b[39m3.015    \u001b[39m | \u001b[39m252.7    \u001b[39m | \u001b[39m0.082    \u001b[39m | \u001b[39m0.2428   \u001b[39m | \u001b[39m0.7098   \u001b[39m |\n",
      "| \u001b[39m42       \u001b[39m | \u001b[39m0.7449   \u001b[39m | \u001b[39m0.9283   \u001b[39m | \u001b[39m0.01497  \u001b[39m | \u001b[39m5.215    \u001b[39m | \u001b[39m182.3    \u001b[39m | \u001b[39m0.3301   \u001b[39m | \u001b[39m0.4507   \u001b[39m | \u001b[39m0.5315   \u001b[39m |\n",
      "| \u001b[39m43       \u001b[39m | \u001b[39m0.7478   \u001b[39m | \u001b[39m0.7919   \u001b[39m | \u001b[39m0.0223   \u001b[39m | \u001b[39m4.443    \u001b[39m | \u001b[39m182.2    \u001b[39m | \u001b[39m0.6178   \u001b[39m | \u001b[39m0.7988   \u001b[39m | \u001b[39m0.9368   \u001b[39m |\n",
      "| \u001b[39m44       \u001b[39m | \u001b[39m0.7423   \u001b[39m | \u001b[39m0.6734   \u001b[39m | \u001b[39m0.03276  \u001b[39m | \u001b[39m4.305    \u001b[39m | \u001b[39m181.7    \u001b[39m | \u001b[39m0.04905  \u001b[39m | \u001b[39m0.47     \u001b[39m | \u001b[39m0.5617   \u001b[39m |\n",
      "| \u001b[39m45       \u001b[39m | \u001b[39m0.7418   \u001b[39m | \u001b[39m0.859    \u001b[39m | \u001b[39m0.05515  \u001b[39m | \u001b[39m3.938    \u001b[39m | \u001b[39m182.8    \u001b[39m | \u001b[39m0.4654   \u001b[39m | \u001b[39m0.04446  \u001b[39m | \u001b[39m0.9559   \u001b[39m |\n",
      "| \u001b[39m46       \u001b[39m | \u001b[39m0.7325   \u001b[39m | \u001b[39m0.6294   \u001b[39m | \u001b[39m0.0856   \u001b[39m | \u001b[39m4.302    \u001b[39m | \u001b[39m183.6    \u001b[39m | \u001b[39m0.365    \u001b[39m | \u001b[39m0.9766   \u001b[39m | \u001b[39m0.7717   \u001b[39m |\n",
      "| \u001b[39m47       \u001b[39m | \u001b[39m0.7415   \u001b[39m | \u001b[39m0.6567   \u001b[39m | \u001b[39m0.03425  \u001b[39m | \u001b[39m4.185    \u001b[39m | \u001b[39m210.1    \u001b[39m | \u001b[39m0.0974   \u001b[39m | \u001b[39m0.2822   \u001b[39m | \u001b[39m0.9567   \u001b[39m |\n",
      "| \u001b[39m48       \u001b[39m | \u001b[39m0.7227   \u001b[39m | \u001b[39m0.7581   \u001b[39m | \u001b[39m0.06554  \u001b[39m | \u001b[39m6.232    \u001b[39m | \u001b[39m181.8    \u001b[39m | \u001b[39m0.501    \u001b[39m | \u001b[39m0.8054   \u001b[39m | \u001b[39m0.9284   \u001b[39m |\n",
      "| \u001b[39m49       \u001b[39m | \u001b[39m0.7371   \u001b[39m | \u001b[39m0.8823   \u001b[39m | \u001b[39m0.07277  \u001b[39m | \u001b[39m3.288    \u001b[39m | \u001b[39m181.7    \u001b[39m | \u001b[39m0.9636   \u001b[39m | \u001b[39m0.4644   \u001b[39m | \u001b[39m0.8735   \u001b[39m |\n",
      "| \u001b[39m50       \u001b[39m | \u001b[39m0.7484   \u001b[39m | \u001b[39m0.9565   \u001b[39m | \u001b[39m0.02545  \u001b[39m | \u001b[39m3.017    \u001b[39m | \u001b[39m252.9    \u001b[39m | \u001b[39m0.9791   \u001b[39m | \u001b[39m0.8157   \u001b[39m | \u001b[39m0.9382   \u001b[39m |\n",
      "| \u001b[39m51       \u001b[39m | \u001b[39m0.7308   \u001b[39m | \u001b[39m0.978    \u001b[39m | \u001b[39m0.0622   \u001b[39m | \u001b[39m4.806    \u001b[39m | \u001b[39m181.8    \u001b[39m | \u001b[39m0.8249   \u001b[39m | \u001b[39m0.09764  \u001b[39m | \u001b[39m0.7323   \u001b[39m |\n",
      "| \u001b[35m52       \u001b[39m | \u001b[35m0.751    \u001b[39m | \u001b[35m0.8056   \u001b[39m | \u001b[35m0.02454  \u001b[39m | \u001b[35m3.014    \u001b[39m | \u001b[35m132.0    \u001b[39m | \u001b[35m0.0634   \u001b[39m | \u001b[35m0.1991   \u001b[39m | \u001b[35m0.4153   \u001b[39m |\n",
      "| \u001b[39m53       \u001b[39m | \u001b[39m0.7475   \u001b[39m | \u001b[39m0.6978   \u001b[39m | \u001b[39m0.03104  \u001b[39m | \u001b[39m3.297    \u001b[39m | \u001b[39m253.4    \u001b[39m | \u001b[39m0.854    \u001b[39m | \u001b[39m0.0589   \u001b[39m | \u001b[39m0.9997   \u001b[39m |\n",
      "| \u001b[35m54       \u001b[39m | \u001b[35m0.7519   \u001b[39m | \u001b[35m0.7202   \u001b[39m | \u001b[35m0.02739  \u001b[39m | \u001b[35m3.213    \u001b[39m | \u001b[35m133.0    \u001b[39m | \u001b[35m0.09239  \u001b[39m | \u001b[35m0.4025   \u001b[39m | \u001b[35m0.6488   \u001b[39m |\n",
      "| \u001b[39m55       \u001b[39m | \u001b[39m0.7444   \u001b[39m | \u001b[39m0.6935   \u001b[39m | \u001b[39m0.01444  \u001b[39m | \u001b[39m3.458    \u001b[39m | \u001b[39m133.8    \u001b[39m | \u001b[39m0.1688   \u001b[39m | \u001b[39m0.7944   \u001b[39m | \u001b[39m0.9173   \u001b[39m |\n",
      "| \u001b[39m56       \u001b[39m | \u001b[39m0.7435   \u001b[39m | \u001b[39m0.8662   \u001b[39m | \u001b[39m0.0803   \u001b[39m | \u001b[39m3.836    \u001b[39m | \u001b[39m133.0    \u001b[39m | \u001b[39m0.01032  \u001b[39m | \u001b[39m0.9601   \u001b[39m | \u001b[39m0.8587   \u001b[39m |\n",
      "| \u001b[39m57       \u001b[39m | \u001b[39m0.7337   \u001b[39m | \u001b[39m0.6114   \u001b[39m | \u001b[39m0.09243  \u001b[39m | \u001b[39m3.841    \u001b[39m | \u001b[39m251.8    \u001b[39m | \u001b[39m0.9207   \u001b[39m | \u001b[39m0.4962   \u001b[39m | \u001b[39m0.7439   \u001b[39m |\n",
      "| \u001b[39m58       \u001b[39m | \u001b[39m0.7444   \u001b[39m | \u001b[39m0.8691   \u001b[39m | \u001b[39m0.05422  \u001b[39m | \u001b[39m3.02     \u001b[39m | \u001b[39m133.6    \u001b[39m | \u001b[39m0.2918   \u001b[39m | \u001b[39m0.05107  \u001b[39m | \u001b[39m0.74     \u001b[39m |\n",
      "| \u001b[39m59       \u001b[39m | \u001b[39m0.7458   \u001b[39m | \u001b[39m0.9476   \u001b[39m | \u001b[39m0.03062  \u001b[39m | \u001b[39m4.445    \u001b[39m | \u001b[39m134.1    \u001b[39m | \u001b[39m0.1386   \u001b[39m | \u001b[39m0.1337   \u001b[39m | \u001b[39m0.4306   \u001b[39m |\n",
      "| \u001b[39m60       \u001b[39m | \u001b[39m0.7291   \u001b[39m | \u001b[39m0.7966   \u001b[39m | \u001b[39m0.09412  \u001b[39m | \u001b[39m4.88     \u001b[39m | \u001b[39m134.6    \u001b[39m | \u001b[39m0.5814   \u001b[39m | \u001b[39m0.9827   \u001b[39m | \u001b[39m0.6381   \u001b[39m |\n",
      "| \u001b[39m61       \u001b[39m | \u001b[39m0.7392   \u001b[39m | \u001b[39m0.9973   \u001b[39m | \u001b[39m0.09368  \u001b[39m | \u001b[39m3.28     \u001b[39m | \u001b[39m132.6    \u001b[39m | \u001b[39m0.15     \u001b[39m | \u001b[39m0.6415   \u001b[39m | \u001b[39m0.8846   \u001b[39m |\n",
      "| \u001b[39m62       \u001b[39m | \u001b[39m0.7423   \u001b[39m | \u001b[39m0.6069   \u001b[39m | \u001b[39m0.02886  \u001b[39m | \u001b[39m4.747    \u001b[39m | \u001b[39m133.0    \u001b[39m | \u001b[39m0.2134   \u001b[39m | \u001b[39m0.03393  \u001b[39m | \u001b[39m0.6954   \u001b[39m |\n",
      "| \u001b[39m63       \u001b[39m | \u001b[39m0.7484   \u001b[39m | \u001b[39m0.9172   \u001b[39m | \u001b[39m0.0102   \u001b[39m | \u001b[39m4.099    \u001b[39m | \u001b[39m133.3    \u001b[39m | \u001b[39m0.4427   \u001b[39m | \u001b[39m0.3569   \u001b[39m | \u001b[39m0.6029   \u001b[39m |\n"
     ]
    }
   ],
   "source": [
    "from bayes_opt import BayesianOptimization\n",
    "from sklearn.model_selection import cross_val_score\n",
    "from sklearn.model_selection import StratifiedKFold\n",
    "from xgboost import XGBClassifier\n",
    "import numpy as np\n",
    "\n",
    "def XGB_Bayesian(max_depth, learning_rate, n_estimators, subsample, colsample_bytree, reg_alpha, reg_lambda):\n",
    "    model = XGBClassifier(\n",
    "        max_depth = int(max_depth),\n",
    "        learning_rate = learning_rate,\n",
    "        n_estimators = int(n_estimators),\n",
    "        subsample = subsample,\n",
    "        colsample_bytree = colsample_bytree,\n",
    "        reg_alpha = reg_alpha,\n",
    "        reg_lambda = reg_lambda,\n",
    "        scale_pos_weight = scale_pos_weight,\n",
    "        random_state = 42\n",
    "    )\n",
    "    \n",
    "    # Performing cross-validation\n",
    "    cv = StratifiedKFold(n_splits = 5, shuffle = True, random_state = 42)\n",
    "    scores = cross_val_score(model, X_train, y_train, cv = cv, scoring = 'accuracy')\n",
    "    return np.mean(scores)\n",
    "\n",
    "param_bounds = {\n",
    "    'max_depth': (3, 10),\n",
    "    'learning_rate': (0.01, 0.1),\n",
    "    'n_estimators': (50, 300),\n",
    "    'subsample': (0.4, 1.0),\n",
    "    'reg_alpha': (0.0, 1.0),\n",
    "    'reg_lambda': (0.0, 1.0),\n",
    "    'colsample_bytree': (0.6, 1.0)\n",
    "}\n",
    "\n",
    "optimizer = BayesianOptimization(\n",
    "    f = XGB_Bayesian,\n",
    "    pbounds = param_bounds,\n",
    "    random_state = 42,\n",
    "    verbose = 2\n",
    ")\n",
    "\n",
    "optimizer.maximize(init_points = 20, n_iter = 50)\n",
    "print(\"Best Parameters:\", optimizer.max)"
   ]
  },
  {
   "cell_type": "markdown",
   "id": "be05e0cc-fb9f-4c43-b875-f0ae3e457080",
   "metadata": {},
   "source": [
    "#### Train"
   ]
  },
  {
   "cell_type": "code",
   "execution_count": null,
   "id": "25095159-2e3f-4b43-8cf6-fbba23b0f365",
   "metadata": {},
   "outputs": [],
   "source": [
    "xgb_model = XGBClassifier(\n",
    "    scale_pos_weight = scale_pos_weight,\n",
    "    learning_rate = optimizer.max['params']['learning_rate'],\n",
    "    n_estimators = int(optimizer.max['params']['n_estimators']),\n",
    "    max_depth = int(optimizer.max['params']['max_depth']),\n",
    "    colsample_bytree = optimizer.max['params']['colsample_bytree'],\n",
    "    subsample = optimizer.max['params']['subsample'],\n",
    "    reg_alpha = optimizer.max['params']['reg_alpha'],\n",
    "    reg_lambda = optimizer.max['params']['reg_lambda'],\n",
    "    random_state = 42\n",
    ")\n",
    "\n",
    "xgb_model.fit(X_train, y_train)"
   ]
  },
  {
   "cell_type": "markdown",
   "id": "c484541e-11fb-4cce-bbda-331fce298305",
   "metadata": {},
   "source": [
    "#### Predict"
   ]
  },
  {
   "cell_type": "code",
   "execution_count": null,
   "id": "8b04403a-7804-4458-abbc-39290a4e3fad",
   "metadata": {},
   "outputs": [],
   "source": [
    "y_pred = xgb_model.predict(X_test)\n",
    "\n",
    "print(\"\\nClassification Report:\\n\", classification_report(y_test, y_pred))\n",
    "print(\"Confusion Matrix:\\n\", confusion_matrix(y_test, y_pred))"
   ]
  }
 ],
 "metadata": {
  "kernelspec": {
   "display_name": "Python 3 (ipykernel)",
   "language": "python",
   "name": "python3"
  },
  "language_info": {
   "codemirror_mode": {
    "name": "ipython",
    "version": 3
   },
   "file_extension": ".py",
   "mimetype": "text/x-python",
   "name": "python",
   "nbconvert_exporter": "python",
   "pygments_lexer": "ipython3",
   "version": "3.13.0"
  }
 },
 "nbformat": 4,
 "nbformat_minor": 5
}
