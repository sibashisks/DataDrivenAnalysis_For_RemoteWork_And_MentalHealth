{
 "cells": [
  {
   "cell_type": "code",
   "execution_count": 1,
   "id": "89818103-0ac5-4837-aac7-9b91099b04bd",
   "metadata": {},
   "outputs": [],
   "source": [
    "# This notebook includes model developement with target variable as Satisfaction_with_Remote_Work"
   ]
  },
  {
   "cell_type": "code",
   "execution_count": 2,
   "id": "1a57c304-4e3d-4c33-a5ec-6e6a5cfa0bcb",
   "metadata": {},
   "outputs": [],
   "source": [
    "import pandas as pd\n",
    "from sklearn.model_selection import train_test_split, cross_val_score\n",
    "from sklearn.metrics import classification_report, confusion_matrix, accuracy_score"
   ]
  },
  {
   "cell_type": "code",
   "execution_count": 3,
   "id": "662e0ba3-c83b-4e42-ae6a-1e12e3d6bbdd",
   "metadata": {},
   "outputs": [],
   "source": [
    "file_path = 'Data/Cleaned_Impact_of_Remote_Work_on_Mental_Health.csv'\n",
    "df = pd.read_csv(file_path)"
   ]
  },
  {
   "cell_type": "markdown",
   "id": "d9c37bab-e770-4814-90db-1cf90081a004",
   "metadata": {},
   "source": [
    "#### Data cleanup for unrelated values for Satisfaction_with_Remote_Work"
   ]
  },
  {
   "cell_type": "code",
   "execution_count": 4,
   "id": "e05f7e30-749b-4e04-b251-120c3514f231",
   "metadata": {},
   "outputs": [],
   "source": [
    "df = df.loc[df['Work_Location'] != 'Onsite']"
   ]
  },
  {
   "cell_type": "markdown",
   "id": "49681a0b-b1ff-4ef7-b9e7-6d1856eea222",
   "metadata": {},
   "source": [
    "#### Remove outliers"
   ]
  },
  {
   "cell_type": "code",
   "execution_count": 5,
   "id": "59260e9b-e2f4-437a-aa54-30144f4d7922",
   "metadata": {},
   "outputs": [],
   "source": [
    "df = df.drop(df[(df['Satisfaction_with_Remote_Work'] == 'Unsatisfied') & (df['Work_Life_Balance_Rating'] == 5)].index)"
   ]
  },
  {
   "cell_type": "markdown",
   "id": "7a42dba4-30fe-4ff9-94dc-2e86ed62d9fd",
   "metadata": {},
   "source": [
    "#### Encoding"
   ]
  },
  {
   "cell_type": "code",
   "execution_count": 6,
   "id": "1240a8c0-24bd-4312-897d-b7e0490bc44d",
   "metadata": {},
   "outputs": [],
   "source": [
    "df['Sleep_Quality_Encoded'] = df['Sleep_Quality'].apply(lambda x: 2 if x == 'Good' else (1 if x == 'Average' else 0))"
   ]
  },
  {
   "cell_type": "code",
   "execution_count": 7,
   "id": "c5812c39-80a7-4b21-8c33-fe5ca1dd415a",
   "metadata": {},
   "outputs": [],
   "source": [
    "df['Stress_Level_Encoded'] = df['Stress_Level'].apply(lambda x: 2 if x == 'Low' else (1 if x == 'Medium' else 0))"
   ]
  },
  {
   "cell_type": "code",
   "execution_count": 8,
   "id": "43a364ed-af5f-45c1-8963-d0211e11f9ff",
   "metadata": {},
   "outputs": [],
   "source": [
    "def classify_satifaction(row):\n",
    "    if row['Satisfaction_with_Remote_Work'] == 'Satisfied':\n",
    "        return 1\n",
    "    elif row['Satisfaction_with_Remote_Work'] == 'Neutral' and row['Work_Life_Balance_Rating'] >= 3:\n",
    "        return 1\n",
    "    else:\n",
    "        return 0\n",
    "\n",
    "df['Satisfaction_with_Remote_Work_Encoded'] = df.apply(classify_satifaction, axis = 1)"
   ]
  },
  {
   "cell_type": "code",
   "execution_count": 9,
   "id": "f998cde8-deca-4000-a1e3-99eb6253651c",
   "metadata": {},
   "outputs": [],
   "source": [
    "features_to_drop = ['Employee_ID', 'Satisfaction_with_Remote_Work', 'Satisfaction_with_Remote_Work_Encoded', 'Sleep_Quality', \n",
    "                    'Stress_Level', 'Work_Location']"
   ]
  },
  {
   "cell_type": "code",
   "execution_count": 10,
   "id": "5c73b177-6e02-466d-9b5e-7e55558c4a80",
   "metadata": {},
   "outputs": [],
   "source": [
    "X = pd.get_dummies(df.drop(features_to_drop, axis = 1), drop_first = True)\n",
    "y = df['Satisfaction_with_Remote_Work_Encoded']"
   ]
  },
  {
   "cell_type": "code",
   "execution_count": 11,
   "id": "dfdf9da5-8fef-4230-90d9-8b030622d650",
   "metadata": {},
   "outputs": [],
   "source": [
    "from sklearn.model_selection import train_test_split\n",
    "\n",
    "X_train, X_test, y_train, y_test = train_test_split(X, y, test_size = 0.2, random_state = 42)"
   ]
  },
  {
   "cell_type": "code",
   "execution_count": 12,
   "id": "6b1f87eb-ecaa-4b32-8646-bd434a739d70",
   "metadata": {},
   "outputs": [
    {
     "name": "stdout",
     "output_type": "stream",
     "text": [
      "Satisfaction_with_Remote_Work_Encoded\n",
      "1    1739\n",
      "0    1390\n",
      "Name: count, dtype: int64\n"
     ]
    }
   ],
   "source": [
    "class_distribution = df['Satisfaction_with_Remote_Work_Encoded'].value_counts()\n",
    "print(class_distribution)"
   ]
  },
  {
   "cell_type": "code",
   "execution_count": 13,
   "id": "92b8c3ff-fb42-46f5-a307-e2e579594cb0",
   "metadata": {},
   "outputs": [
    {
     "data": {
      "text/plain": [
       "np.float64(1.2510791366906475)"
      ]
     },
     "execution_count": 13,
     "metadata": {},
     "output_type": "execute_result"
    }
   ],
   "source": [
    "scale_pos_weight = class_distribution.max() / class_distribution.min()\n",
    "scale_pos_weight"
   ]
  },
  {
   "cell_type": "markdown",
   "id": "7f0866d0-642d-4ed3-9505-f688b9d513f7",
   "metadata": {},
   "source": [
    "## Using RandomForest"
   ]
  },
  {
   "cell_type": "markdown",
   "id": "d388c292-34a1-446f-9177-6f1b1ef04182",
   "metadata": {},
   "source": [
    "#### Tuning"
   ]
  },
  {
   "cell_type": "code",
   "execution_count": null,
   "id": "652b3337-19e6-4e90-8d8b-7e2cc479d5e4",
   "metadata": {},
   "outputs": [
    {
     "name": "stdout",
     "output_type": "stream",
     "text": [
      "|   iter    |  target   | max_depth | min_sa... | min_sa... | n_esti... |\n",
      "-------------------------------------------------------------------------\n",
      "| \u001b[39m1        \u001b[39m | \u001b[39m0.7247   \u001b[39m | \u001b[39m9.367    \u001b[39m | \u001b[39m4.803    \u001b[39m | \u001b[39m7.856    \u001b[39m | \u001b[39m199.7    \u001b[39m |\n",
      "| \u001b[35m2        \u001b[39m | \u001b[35m0.7253   \u001b[39m | \u001b[35m5.652    \u001b[39m | \u001b[35m1.624    \u001b[39m | \u001b[35m2.465    \u001b[39m | \u001b[35m266.5    \u001b[39m |\n",
      "| \u001b[39m3        \u001b[39m | \u001b[39m0.7199   \u001b[39m | \u001b[39m13.22    \u001b[39m | \u001b[39m3.832    \u001b[39m | \u001b[39m2.165    \u001b[39m | \u001b[39m292.5    \u001b[39m |\n",
      "| \u001b[39m4        \u001b[39m | \u001b[39m0.7027   \u001b[39m | \u001b[39m17.15    \u001b[39m | \u001b[39m1.849    \u001b[39m | \u001b[39m3.455    \u001b[39m | \u001b[39m95.85    \u001b[39m |\n",
      "| \u001b[35m5        \u001b[39m | \u001b[35m0.7276   \u001b[39m | \u001b[35m8.172    \u001b[39m | \u001b[35m3.099    \u001b[39m | \u001b[35m5.456    \u001b[39m | \u001b[35m122.8    \u001b[39m |\n",
      "| \u001b[39m6        \u001b[39m | \u001b[39m0.7151   \u001b[39m | \u001b[39m13.4     \u001b[39m | \u001b[39m1.558    \u001b[39m | \u001b[39m4.337    \u001b[39m | \u001b[39m141.6    \u001b[39m |\n",
      "| \u001b[39m7        \u001b[39m | \u001b[39m0.7262   \u001b[39m | \u001b[39m10.75    \u001b[39m | \u001b[39m4.141    \u001b[39m | \u001b[39m3.597    \u001b[39m | \u001b[39m178.6    \u001b[39m |\n",
      "| \u001b[39m8        \u001b[39m | \u001b[39m0.7165   \u001b[39m | \u001b[39m13.07    \u001b[39m | \u001b[39m1.186    \u001b[39m | \u001b[39m6.86     \u001b[39m | \u001b[39m92.63    \u001b[39m |\n",
      "| \u001b[39m9        \u001b[39m | \u001b[39m0.7256   \u001b[39m | \u001b[39m4.106    \u001b[39m | \u001b[39m4.796    \u001b[39m | \u001b[39m9.725    \u001b[39m | \u001b[39m252.1    \u001b[39m |\n",
      "| \u001b[39m10       \u001b[39m | \u001b[39m0.7261   \u001b[39m | \u001b[39m8.178    \u001b[39m | \u001b[39m1.391    \u001b[39m | \u001b[39m7.474    \u001b[39m | \u001b[39m160.0    \u001b[39m |\n",
      "| \u001b[39m11       \u001b[39m | \u001b[39m0.725    \u001b[39m | \u001b[39m5.075    \u001b[39m | \u001b[39m2.981    \u001b[39m | \u001b[39m2.275    \u001b[39m | \u001b[39m277.3    \u001b[39m |\n",
      "| \u001b[39m12       \u001b[39m | \u001b[39m0.7265   \u001b[39m | \u001b[39m7.399    \u001b[39m | \u001b[39m3.65     \u001b[39m | \u001b[39m4.494    \u001b[39m | \u001b[39m180.0    \u001b[39m |\n",
      "| \u001b[39m13       \u001b[39m | \u001b[39m0.722    \u001b[39m | \u001b[39m12.29    \u001b[39m | \u001b[39m1.739    \u001b[39m | \u001b[39m9.757    \u001b[39m | \u001b[39m243.8    \u001b[39m |\n",
      "| \u001b[39m14       \u001b[39m | \u001b[39m0.7236   \u001b[39m | \u001b[39m18.97    \u001b[39m | \u001b[39m4.579    \u001b[39m | \u001b[39m6.783    \u001b[39m | \u001b[39m280.5    \u001b[39m |\n",
      "| \u001b[39m15       \u001b[39m | \u001b[39m0.7254   \u001b[39m | \u001b[39m4.504    \u001b[39m | \u001b[39m1.784    \u001b[39m | \u001b[39m2.362    \u001b[39m | \u001b[39m131.3    \u001b[39m |\n",
      "| \u001b[39m16       \u001b[39m | \u001b[39m0.7257   \u001b[39m | \u001b[39m9.608    \u001b[39m | \u001b[39m2.085    \u001b[39m | \u001b[39m8.63     \u001b[39m | \u001b[39m139.2    \u001b[39m |\n",
      "| \u001b[39m17       \u001b[39m | \u001b[39m0.7258   \u001b[39m | \u001b[39m7.776    \u001b[39m | \u001b[39m3.171    \u001b[39m | \u001b[39m3.127    \u001b[39m | \u001b[39m250.5    \u001b[39m |\n",
      "| \u001b[39m18       \u001b[39m | \u001b[39m0.7256   \u001b[39m | \u001b[39m4.267    \u001b[39m | \u001b[39m4.948    \u001b[39m | \u001b[39m8.178    \u001b[39m | \u001b[39m99.68    \u001b[39m |\n",
      "| \u001b[39m19       \u001b[39m | \u001b[39m0.7254   \u001b[39m | \u001b[39m3.094    \u001b[39m | \u001b[39m4.262    \u001b[39m | \u001b[39m7.655    \u001b[39m | \u001b[39m232.3    \u001b[39m |\n",
      "| \u001b[39m20       \u001b[39m | \u001b[39m0.7065   \u001b[39m | \u001b[39m16.11    \u001b[39m | \u001b[39m1.296    \u001b[39m | \u001b[39m4.868    \u001b[39m | \u001b[39m78.97    \u001b[39m |\n",
      "| \u001b[39m21       \u001b[39m | \u001b[39m0.7273   \u001b[39m | \u001b[39m6.504    \u001b[39m | \u001b[39m4.353    \u001b[39m | \u001b[39m9.998    \u001b[39m | \u001b[39m130.6    \u001b[39m |\n",
      "| \u001b[39m22       \u001b[39m | \u001b[39m0.7181   \u001b[39m | \u001b[39m15.29    \u001b[39m | \u001b[39m1.858    \u001b[39m | \u001b[39m9.769    \u001b[39m | \u001b[39m126.8    \u001b[39m |\n",
      "| \u001b[39m23       \u001b[39m | \u001b[39m0.7259   \u001b[39m | \u001b[39m3.342    \u001b[39m | \u001b[39m4.722    \u001b[39m | \u001b[39m8.982    \u001b[39m | \u001b[39m139.6    \u001b[39m |\n",
      "| \u001b[39m24       \u001b[39m | \u001b[39m0.725    \u001b[39m | \u001b[39m3.164    \u001b[39m | \u001b[39m4.231    \u001b[39m | \u001b[39m9.471    \u001b[39m | \u001b[39m118.7    \u001b[39m |\n",
      "| \u001b[39m25       \u001b[39m | \u001b[39m0.725    \u001b[39m | \u001b[39m5.72     \u001b[39m | \u001b[39m1.389    \u001b[39m | \u001b[39m7.876    \u001b[39m | \u001b[39m170.3    \u001b[39m |\n",
      "| \u001b[39m26       \u001b[39m | \u001b[39m0.7215   \u001b[39m | \u001b[39m13.05    \u001b[39m | \u001b[39m3.04     \u001b[39m | \u001b[39m8.825    \u001b[39m | \u001b[39m187.8    \u001b[39m |\n",
      "| \u001b[39m27       \u001b[39m | \u001b[39m0.7085   \u001b[39m | \u001b[39m15.3     \u001b[39m | \u001b[39m1.244    \u001b[39m | \u001b[39m2.382    \u001b[39m | \u001b[39m167.5    \u001b[39m |\n",
      "| \u001b[39m28       \u001b[39m | \u001b[39m0.7257   \u001b[39m | \u001b[39m3.607    \u001b[39m | \u001b[39m4.328    \u001b[39m | \u001b[39m2.267    \u001b[39m | \u001b[39m123.6    \u001b[39m |\n",
      "| \u001b[39m29       \u001b[39m | \u001b[39m0.7271   \u001b[39m | \u001b[39m10.27    \u001b[39m | \u001b[39m4.941    \u001b[39m | \u001b[39m7.588    \u001b[39m | \u001b[39m259.4    \u001b[39m |\n",
      "| \u001b[39m30       \u001b[39m | \u001b[39m0.7221   \u001b[39m | \u001b[39m13.24    \u001b[39m | \u001b[39m3.615    \u001b[39m | \u001b[39m8.918    \u001b[39m | \u001b[39m268.3    \u001b[39m |\n"
     ]
    }
   ],
   "source": [
    "from bayes_opt import BayesianOptimization\n",
    "from sklearn.model_selection import cross_val_score\n",
    "from sklearn.model_selection import StratifiedKFold\n",
    "from sklearn.ensemble import RandomForestClassifier\n",
    "import numpy as np\n",
    "\n",
    "def RandomForest_Bayesian(n_estimators, max_depth, min_samples_split, min_samples_leaf):\n",
    "    model = RandomForestClassifier(\n",
    "        max_depth = int(max_depth),\n",
    "        n_estimators = int(n_estimators),\n",
    "        min_samples_split = int(min_samples_split),\n",
    "        min_samples_leaf = int(min_samples_leaf),\n",
    "        class_weight = 'balanced',\n",
    "        random_state = 42\n",
    "    )\n",
    "    \n",
    "    # Performing cross-validation\n",
    "    cv = StratifiedKFold(n_splits = 5, shuffle = True, random_state = 42)\n",
    "    scores = cross_val_score(model, X_train, y_train, cv = cv, scoring = 'precision')\n",
    "    return np.mean(scores)\n",
    "\n",
    "param_bounds = {\n",
    "    'n_estimators': (50, 300),\n",
    "    'max_depth': (3, 20),\n",
    "    'min_samples_split': (2, 10),\n",
    "    'min_samples_leaf': (1, 5)\n",
    "}\n",
    "\n",
    "optimizer = BayesianOptimization(\n",
    "    f = RandomForest_Bayesian,\n",
    "    pbounds = param_bounds,\n",
    "    random_state = 42,\n",
    "    verbose = 2\n",
    ")\n",
    "\n",
    "optimizer.maximize(init_points = 20, n_iter = 50)\n",
    "print(\"Best Parameters:\", optimizer.max)"
   ]
  },
  {
   "cell_type": "markdown",
   "id": "391725e3-3a9b-4237-9c88-c6a9514ead0b",
   "metadata": {},
   "source": [
    "#### Train"
   ]
  },
  {
   "cell_type": "code",
   "execution_count": null,
   "id": "b8f01f17-eb91-4e6b-b8a4-1fddfc9dcf34",
   "metadata": {},
   "outputs": [],
   "source": [
    "rf_model = RandomForestClassifier(\n",
    "    n_estimators = int(optimizer.max['params']['n_estimators']),\n",
    "    max_depth = int(optimizer.max['params']['max_depth']),\n",
    "    min_samples_split = int(optimizer.max['params']['min_samples_split']),\n",
    "    min_samples_leaf = int(optimizer.max['params']['min_samples_leaf']),\n",
    "    class_weight = 'balanced',\n",
    "    random_state = 42,\n",
    ")\n",
    "\n",
    "rf_model.fit(X_train, y_train)"
   ]
  },
  {
   "cell_type": "markdown",
   "id": "f5475a07-02ed-4854-9582-df92537cb144",
   "metadata": {},
   "source": [
    "#### Predict"
   ]
  },
  {
   "cell_type": "code",
   "execution_count": null,
   "id": "3bd791e3-cacb-495d-a7bc-dad7f119d0c0",
   "metadata": {},
   "outputs": [],
   "source": [
    "y_pred2 = rf_model.predict(X_test)\n",
    "\n",
    "print(\"\\nClassification Report:\\n\", classification_report(y_test, y_pred2))\n",
    "print(\"Confusion Matrix:\\n\", confusion_matrix(y_test, y_pred2))"
   ]
  }
 ],
 "metadata": {
  "kernelspec": {
   "display_name": "Python 3 (ipykernel)",
   "language": "python",
   "name": "python3"
  },
  "language_info": {
   "codemirror_mode": {
    "name": "ipython",
    "version": 3
   },
   "file_extension": ".py",
   "mimetype": "text/x-python",
   "name": "python",
   "nbconvert_exporter": "python",
   "pygments_lexer": "ipython3",
   "version": "3.13.0"
  }
 },
 "nbformat": 4,
 "nbformat_minor": 5
}
