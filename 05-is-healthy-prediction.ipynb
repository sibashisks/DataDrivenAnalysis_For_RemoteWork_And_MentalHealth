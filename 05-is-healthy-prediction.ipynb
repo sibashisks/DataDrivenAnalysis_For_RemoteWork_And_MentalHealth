{
 "cells": [
  {
   "cell_type": "code",
   "execution_count": 1,
   "id": "cb680c66-ae11-4bd9-afcf-30bb11f85217",
   "metadata": {},
   "outputs": [],
   "source": [
    "# This notebook includes model developement with target a new target variable as Is_Healthy"
   ]
  },
  {
   "cell_type": "code",
   "execution_count": 2,
   "id": "b74eb2e0-0a56-4077-bce2-045c8f4b3534",
   "metadata": {},
   "outputs": [],
   "source": [
    "import pandas as pd\n",
    "import numpy as np\n",
    "from sklearn.model_selection import train_test_split, cross_val_score, GridSearchCV\n",
    "from sklearn.metrics import classification_report, confusion_matrix, accuracy_score, precision_recall_curve"
   ]
  },
  {
   "cell_type": "code",
   "execution_count": 3,
   "id": "eaf51c0a-9dd4-4021-a634-037c78b26628",
   "metadata": {},
   "outputs": [],
   "source": [
    "file_path = 'Data/Cleaned_Impact_of_Remote_Work_on_Mental_Health.csv'\n",
    "df = pd.read_csv(file_path)"
   ]
  },
  {
   "cell_type": "markdown",
   "id": "1231fb62-0e34-47be-b7c3-ba0b6c4f9d98",
   "metadata": {},
   "source": [
    "#### Encoding"
   ]
  },
  {
   "cell_type": "code",
   "execution_count": 4,
   "id": "9e759067-8923-4ef2-b91f-64f59d782d29",
   "metadata": {},
   "outputs": [],
   "source": [
    "df['Satisfaction_with_Remote_Work_Encoded'] = df['Satisfaction_with_Remote_Work'].apply(lambda x: 1 if x == 'Satisfied' else 0)"
   ]
  },
  {
   "cell_type": "code",
   "execution_count": 5,
   "id": "1cf3e722-a7c0-42e0-95e3-a7ddd6011296",
   "metadata": {},
   "outputs": [],
   "source": [
    "df['Sleep_Quality_Encoded'] = df['Sleep_Quality'].apply(lambda x: 2 if x == 'Good' else (1 if x == 'Average' else 0))"
   ]
  },
  {
   "cell_type": "code",
   "execution_count": 6,
   "id": "c5d34637-2c8e-4611-95af-1f19d5681287",
   "metadata": {},
   "outputs": [],
   "source": [
    "def classify_health_risk(row):\n",
    "    if row['Stress_Level'] == 'High':\n",
    "        return 1\n",
    "    elif row['Stress_Level'] == 'Medium' and (row['Mental_Health_Condition'] != 'Unknown' or row['Sleep_Quality_Encoded'] == 0):\n",
    "        return 1\n",
    "    elif row['Stress_Level'] == 'Low' and (row['Mental_Health_Condition'] != 'Unknown' or row['Sleep_Quality_Encoded'] == 0):\n",
    "        return 1\n",
    "    else:\n",
    "        return 0\n",
    "\n",
    "df['Is_Healthy'] = df.apply(classify_health_risk, axis = 1)"
   ]
  },
  {
   "cell_type": "code",
   "execution_count": 7,
   "id": "44f98728-cf1a-4115-9809-8836a15dee23",
   "metadata": {},
   "outputs": [],
   "source": [
    "features_to_drop = ['Stress_Level', 'Employee_ID', 'Satisfaction_with_Remote_Work', 'Sleep_Quality', 'Is_Healthy']"
   ]
  },
  {
   "cell_type": "code",
   "execution_count": 8,
   "id": "79ef5081-fac6-4e2a-8325-f4e43bd0c21d",
   "metadata": {},
   "outputs": [],
   "source": [
    "X = pd.get_dummies(df.drop(features_to_drop, axis = 1), drop_first = True)\n",
    "y = df['Is_Healthy']"
   ]
  },
  {
   "cell_type": "code",
   "execution_count": 9,
   "id": "a0f70aee-b972-46e6-854c-f58989933e90",
   "metadata": {},
   "outputs": [],
   "source": [
    "X_train, X_test, y_train, y_test = train_test_split(X, y, test_size = 0.2, random_state = 42)"
   ]
  },
  {
   "cell_type": "code",
   "execution_count": 10,
   "id": "d19bc769-48de-4d57-8eb7-5c458fe5614c",
   "metadata": {},
   "outputs": [
    {
     "name": "stdout",
     "output_type": "stream",
     "text": [
      "Is_Healthy\n",
      "1    3584\n",
      "0     416\n",
      "Name: count, dtype: int64\n"
     ]
    }
   ],
   "source": [
    "class_distribution = y_train.value_counts()\n",
    "print(class_distribution)"
   ]
  },
  {
   "cell_type": "markdown",
   "id": "008d96e8-4039-4d5e-851a-a81290e67d8c",
   "metadata": {},
   "source": [
    "## Using Logistic Regression"
   ]
  },
  {
   "cell_type": "markdown",
   "id": "d2962df7-36a9-41d2-8aba-0e405fbaeed4",
   "metadata": {},
   "source": [
    "#### Tuning"
   ]
  },
  {
   "cell_type": "code",
   "execution_count": null,
   "id": "4406e732-d4bb-4bf9-b328-f948a99bc81c",
   "metadata": {},
   "outputs": [],
   "source": [
    "from sklearn.linear_model import LogisticRegression\n",
    "\n",
    "param_grid = {\n",
    "    'C': [0.1, 1, 10, 100],\n",
    "    'solver': ['liblinear', 'saga']\n",
    "}\n",
    "\n",
    "clf = GridSearchCV(LogisticRegression(max_iter = 2000), param_grid, scoring = 'f1', cv = 5)\n",
    "clf.fit(X_train, y_train)\n",
    "print(\"Best Parameters:\", clf.best_params_)"
   ]
  },
  {
   "cell_type": "markdown",
   "id": "be05e0cc-fb9f-4c43-b875-f0ae3e457080",
   "metadata": {},
   "source": [
    "#### Train"
   ]
  },
  {
   "cell_type": "code",
   "execution_count": null,
   "id": "02bfcb17-ee7b-4c12-97fc-3c0ed2e804ad",
   "metadata": {},
   "outputs": [],
   "source": [
    "from sklearn.linear_model import LogisticRegression\n",
    "\n",
    "logreg_model = LogisticRegression(\n",
    "    class_weight = 'balanced', \n",
    "    C = clf.best_params_['C'], \n",
    "    solver = clf.best_params_['solver'], \n",
    "    random_state = 42, \n",
    "    max_iter = 1000\n",
    ")\n",
    "\n",
    "logreg_model.fit(X_train, y_train)"
   ]
  },
  {
   "cell_type": "markdown",
   "id": "c484541e-11fb-4cce-bbda-331fce298305",
   "metadata": {},
   "source": [
    "#### Predict"
   ]
  },
  {
   "cell_type": "code",
   "execution_count": null,
   "id": "99f4f70b-94ea-4c92-bf41-7d859231a7b5",
   "metadata": {},
   "outputs": [],
   "source": [
    "y_pred = logreg_model.predict(X_test)\n",
    "\n",
    "print(\"Classification Report:\\n\", classification_report(y_test, y_pred))\n",
    "print(\"Confusion Matrix:\\n\", confusion_matrix(y_test, y_pred))"
   ]
  },
  {
   "cell_type": "markdown",
   "id": "b63925a1-9b86-4dbd-aa2e-89b38d243193",
   "metadata": {},
   "source": [
    "#### Change threshold to improve performance"
   ]
  },
  {
   "cell_type": "code",
   "execution_count": null,
   "id": "625d68a2-e32a-43ba-9a4a-2f4974479e38",
   "metadata": {},
   "outputs": [],
   "source": [
    "y_probs = logreg_model.predict_proba(X_test)[:, 1]\n",
    "precision, recall, thresholds = precision_recall_curve(y_test, y_probs)\n",
    "f1_scores = 2 * (precision * recall) / (precision + recall)\n",
    "best_threshold = thresholds[np.argmax(f1_scores)]\n",
    "\n",
    "y_pred_adjusted = (y_probs >= best_threshold).astype(int)\n",
    "print(\"\\nClassification Report:\\n\", classification_report(y_test, y_pred_adjusted))\n",
    "print(\"Confusion Matrix:\\n\", confusion_matrix(y_test, y_pred_adjusted))"
   ]
  }
 ],
 "metadata": {
  "kernelspec": {
   "display_name": "Python 3 (ipykernel)",
   "language": "python",
   "name": "python3"
  },
  "language_info": {
   "codemirror_mode": {
    "name": "ipython",
    "version": 3
   },
   "file_extension": ".py",
   "mimetype": "text/x-python",
   "name": "python",
   "nbconvert_exporter": "python",
   "pygments_lexer": "ipython3",
   "version": "3.13.0"
  }
 },
 "nbformat": 4,
 "nbformat_minor": 5
}
