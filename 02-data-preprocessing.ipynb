{
 "cells": [
  {
   "cell_type": "code",
   "execution_count": 1,
   "id": "97ad6bd5-0c53-4848-87b2-113b2ee2eb4e",
   "metadata": {},
   "outputs": [],
   "source": [
    "# This notebook includes data cleaning and type correction steps."
   ]
  },
  {
   "cell_type": "code",
   "execution_count": 2,
   "id": "402e4169-d160-461a-b4a3-d9125fc279bf",
   "metadata": {},
   "outputs": [],
   "source": [
    "import pandas as pd"
   ]
  },
  {
   "cell_type": "code",
   "execution_count": 10,
   "id": "874745d4-8877-49bb-b57a-903b5bf2b633",
   "metadata": {},
   "outputs": [],
   "source": [
    "file_path = 'Data/Impact_of_Remote_Work_on_Mental_Health.csv'\n",
    "df = pd.read_csv(file_path)"
   ]
  },
  {
   "cell_type": "code",
   "execution_count": 11,
   "id": "3d5794c9-eb31-435f-bdcf-b6b258541053",
   "metadata": {},
   "outputs": [],
   "source": [
    "null_counts = df.isnull().sum()"
   ]
  },
  {
   "cell_type": "code",
   "execution_count": 12,
   "id": "3e57e8b9-5410-4c9b-bf09-ccf0945110da",
   "metadata": {},
   "outputs": [
    {
     "data": {
      "text/plain": [
       "Employee_ID                             0\n",
       "Age                                     0\n",
       "Gender                                  0\n",
       "Job_Role                                0\n",
       "Industry                                0\n",
       "Years_of_Experience                     0\n",
       "Work_Location                           0\n",
       "Hours_Worked_Per_Week                   0\n",
       "Number_of_Virtual_Meetings              0\n",
       "Work_Life_Balance_Rating                0\n",
       "Stress_Level                            0\n",
       "Mental_Health_Condition              1196\n",
       "Access_to_Mental_Health_Resources       0\n",
       "Productivity_Change                     0\n",
       "Social_Isolation_Rating                 0\n",
       "Satisfaction_with_Remote_Work           0\n",
       "Company_Support_for_Remote_Work         0\n",
       "Physical_Activity                    1629\n",
       "Sleep_Quality                           0\n",
       "Region                                  0\n",
       "dtype: int64"
      ]
     },
     "execution_count": 12,
     "metadata": {},
     "output_type": "execute_result"
    }
   ],
   "source": [
    "null_counts"
   ]
  },
  {
   "cell_type": "code",
   "execution_count": 19,
   "id": "1949256c-a893-44ee-8520-0d07d667644b",
   "metadata": {},
   "outputs": [
    {
     "data": {
      "text/plain": [
       "Employee_ID                           0.00\n",
       "Age                                   0.00\n",
       "Gender                                0.00\n",
       "Job_Role                              0.00\n",
       "Industry                              0.00\n",
       "Years_of_Experience                   0.00\n",
       "Work_Location                         0.00\n",
       "Hours_Worked_Per_Week                 0.00\n",
       "Number_of_Virtual_Meetings            0.00\n",
       "Work_Life_Balance_Rating              0.00\n",
       "Stress_Level                          0.00\n",
       "Mental_Health_Condition              23.92\n",
       "Access_to_Mental_Health_Resources     0.00\n",
       "Productivity_Change                   0.00\n",
       "Social_Isolation_Rating               0.00\n",
       "Satisfaction_with_Remote_Work         0.00\n",
       "Company_Support_for_Remote_Work       0.00\n",
       "Physical_Activity                    32.58\n",
       "Sleep_Quality                         0.00\n",
       "Region                                0.00\n",
       "dtype: float64"
      ]
     },
     "execution_count": 19,
     "metadata": {},
     "output_type": "execute_result"
    }
   ],
   "source": [
    "null_counts / df.shape[0] * 100"
   ]
  },
  {
   "cell_type": "code",
   "execution_count": 13,
   "id": "963c4199-34c0-4175-99e7-b7c45208f12e",
   "metadata": {},
   "outputs": [
    {
     "data": {
      "text/plain": [
       "Mental_Health_Condition\n",
       "Burnout       1280\n",
       "Anxiety       1278\n",
       "Depression    1246\n",
       "Name: count, dtype: int64"
      ]
     },
     "execution_count": 13,
     "metadata": {},
     "output_type": "execute_result"
    }
   ],
   "source": [
    "df['Mental_Health_Condition'].value_counts()"
   ]
  },
  {
   "cell_type": "code",
   "execution_count": 15,
   "id": "e1ec6319-9679-433b-8a2f-ca2b8847d506",
   "metadata": {},
   "outputs": [],
   "source": [
    "df['Mental_Health_Condition'] = df['Mental_Health_Condition'].fillna(\"Unknown\")"
   ]
  },
  {
   "cell_type": "code",
   "execution_count": 16,
   "id": "0856a53a-586e-40ff-9837-7ca14493339d",
   "metadata": {},
   "outputs": [
    {
     "data": {
      "text/plain": [
       "Mental_Health_Condition\n",
       "Burnout       1280\n",
       "Anxiety       1278\n",
       "Depression    1246\n",
       "Unknown       1196\n",
       "Name: count, dtype: int64"
      ]
     },
     "execution_count": 16,
     "metadata": {},
     "output_type": "execute_result"
    }
   ],
   "source": [
    "df['Mental_Health_Condition'].value_counts()"
   ]
  },
  {
   "cell_type": "code",
   "execution_count": 20,
   "id": "466604be-40d6-4543-88c7-1f8e81c4d3d0",
   "metadata": {},
   "outputs": [],
   "source": [
    "null_counts_2 = df.isnull().sum()"
   ]
  },
  {
   "cell_type": "code",
   "execution_count": 21,
   "id": "31fa0557-3a4e-452c-b3d3-bf05c324c5e3",
   "metadata": {},
   "outputs": [
    {
     "data": {
      "text/plain": [
       "Employee_ID                           0.00\n",
       "Age                                   0.00\n",
       "Gender                                0.00\n",
       "Job_Role                              0.00\n",
       "Industry                              0.00\n",
       "Years_of_Experience                   0.00\n",
       "Work_Location                         0.00\n",
       "Hours_Worked_Per_Week                 0.00\n",
       "Number_of_Virtual_Meetings            0.00\n",
       "Work_Life_Balance_Rating              0.00\n",
       "Stress_Level                          0.00\n",
       "Mental_Health_Condition               0.00\n",
       "Access_to_Mental_Health_Resources     0.00\n",
       "Productivity_Change                   0.00\n",
       "Social_Isolation_Rating               0.00\n",
       "Satisfaction_with_Remote_Work         0.00\n",
       "Company_Support_for_Remote_Work       0.00\n",
       "Physical_Activity                    32.58\n",
       "Sleep_Quality                         0.00\n",
       "Region                                0.00\n",
       "dtype: float64"
      ]
     },
     "execution_count": 21,
     "metadata": {},
     "output_type": "execute_result"
    }
   ],
   "source": [
    "null_counts_2 / df.shape[0] * 100"
   ]
  },
  {
   "cell_type": "code",
   "execution_count": 22,
   "id": "c9c2150f-7ae2-4bbf-b354-71c217fbfdf9",
   "metadata": {},
   "outputs": [
    {
     "data": {
      "text/plain": [
       "Physical_Activity\n",
       "Weekly    1755\n",
       "Daily     1616\n",
       "Name: count, dtype: int64"
      ]
     },
     "execution_count": 22,
     "metadata": {},
     "output_type": "execute_result"
    }
   ],
   "source": [
    "df['Physical_Activity'].value_counts()"
   ]
  },
  {
   "cell_type": "code",
   "execution_count": 23,
   "id": "937d0486-559c-418b-bcdc-8d7c34b80e7b",
   "metadata": {},
   "outputs": [],
   "source": [
    "df['Physical_Activity'] = df['Physical_Activity'].fillna(\"Occasional or Never\")"
   ]
  },
  {
   "cell_type": "code",
   "execution_count": 24,
   "id": "d155f563-31d2-41ac-af68-cfb1ea91b28a",
   "metadata": {},
   "outputs": [
    {
     "data": {
      "text/plain": [
       "Physical_Activity\n",
       "Weekly                 1755\n",
       "Occasional or Never    1629\n",
       "Daily                  1616\n",
       "Name: count, dtype: int64"
      ]
     },
     "execution_count": 24,
     "metadata": {},
     "output_type": "execute_result"
    }
   ],
   "source": [
    "df['Physical_Activity'].value_counts()"
   ]
  },
  {
   "cell_type": "code",
   "execution_count": 25,
   "id": "d2452e4d-889a-49c6-b70c-88f6c51d18c4",
   "metadata": {},
   "outputs": [],
   "source": [
    "null_counts_3 = df.isnull().sum()"
   ]
  },
  {
   "cell_type": "code",
   "execution_count": 26,
   "id": "cb8896c3-946b-49d9-949d-49ec53fabbff",
   "metadata": {},
   "outputs": [
    {
     "data": {
      "text/plain": [
       "Employee_ID                          0.0\n",
       "Age                                  0.0\n",
       "Gender                               0.0\n",
       "Job_Role                             0.0\n",
       "Industry                             0.0\n",
       "Years_of_Experience                  0.0\n",
       "Work_Location                        0.0\n",
       "Hours_Worked_Per_Week                0.0\n",
       "Number_of_Virtual_Meetings           0.0\n",
       "Work_Life_Balance_Rating             0.0\n",
       "Stress_Level                         0.0\n",
       "Mental_Health_Condition              0.0\n",
       "Access_to_Mental_Health_Resources    0.0\n",
       "Productivity_Change                  0.0\n",
       "Social_Isolation_Rating              0.0\n",
       "Satisfaction_with_Remote_Work        0.0\n",
       "Company_Support_for_Remote_Work      0.0\n",
       "Physical_Activity                    0.0\n",
       "Sleep_Quality                        0.0\n",
       "Region                               0.0\n",
       "dtype: float64"
      ]
     },
     "execution_count": 26,
     "metadata": {},
     "output_type": "execute_result"
    }
   ],
   "source": [
    "null_counts_3 / df.shape[0] * 100"
   ]
  },
  {
   "cell_type": "code",
   "execution_count": 27,
   "id": "8aab9dd4-7da0-43c7-8bb2-c27284744158",
   "metadata": {},
   "outputs": [
    {
     "name": "stdout",
     "output_type": "stream",
     "text": [
      "<class 'pandas.core.frame.DataFrame'>\n",
      "RangeIndex: 5000 entries, 0 to 4999\n",
      "Data columns (total 20 columns):\n",
      " #   Column                             Non-Null Count  Dtype \n",
      "---  ------                             --------------  ----- \n",
      " 0   Employee_ID                        5000 non-null   object\n",
      " 1   Age                                5000 non-null   int64 \n",
      " 2   Gender                             5000 non-null   object\n",
      " 3   Job_Role                           5000 non-null   object\n",
      " 4   Industry                           5000 non-null   object\n",
      " 5   Years_of_Experience                5000 non-null   int64 \n",
      " 6   Work_Location                      5000 non-null   object\n",
      " 7   Hours_Worked_Per_Week              5000 non-null   int64 \n",
      " 8   Number_of_Virtual_Meetings         5000 non-null   int64 \n",
      " 9   Work_Life_Balance_Rating           5000 non-null   int64 \n",
      " 10  Stress_Level                       5000 non-null   object\n",
      " 11  Mental_Health_Condition            5000 non-null   object\n",
      " 12  Access_to_Mental_Health_Resources  5000 non-null   object\n",
      " 13  Productivity_Change                5000 non-null   object\n",
      " 14  Social_Isolation_Rating            5000 non-null   int64 \n",
      " 15  Satisfaction_with_Remote_Work      5000 non-null   object\n",
      " 16  Company_Support_for_Remote_Work    5000 non-null   int64 \n",
      " 17  Physical_Activity                  5000 non-null   object\n",
      " 18  Sleep_Quality                      5000 non-null   object\n",
      " 19  Region                             5000 non-null   object\n",
      "dtypes: int64(7), object(13)\n",
      "memory usage: 781.4+ KB\n"
     ]
    }
   ],
   "source": [
    "df.info()"
   ]
  },
  {
   "cell_type": "code",
   "execution_count": 31,
   "id": "5bdba823-aa93-4fa5-b982-d3aeca26c16b",
   "metadata": {},
   "outputs": [],
   "source": [
    "unique_values = {column: df[column].unique() for column in df.select_dtypes(include='object').columns}"
   ]
  },
  {
   "cell_type": "code",
   "execution_count": 32,
   "id": "6415ad70-6772-402a-9a55-a80a0866d9f8",
   "metadata": {},
   "outputs": [
    {
     "data": {
      "text/plain": [
       "{'Employee_ID': array(['EMP0001', 'EMP0002', 'EMP0003', ..., 'EMP4998', 'EMP4999',\n",
       "        'EMP5000'], dtype=object),\n",
       " 'Gender': array(['Non-binary', 'Female', 'Male', 'Prefer not to say'], dtype=object),\n",
       " 'Job_Role': array(['HR', 'Data Scientist', 'Software Engineer', 'Sales', 'Marketing',\n",
       "        'Designer', 'Project Manager'], dtype=object),\n",
       " 'Industry': array(['Healthcare', 'IT', 'Education', 'Finance', 'Consulting',\n",
       "        'Manufacturing', 'Retail'], dtype=object),\n",
       " 'Work_Location': array(['Hybrid', 'Remote', 'Onsite'], dtype=object),\n",
       " 'Stress_Level': array(['Medium', 'High', 'Low'], dtype=object),\n",
       " 'Mental_Health_Condition': array(['Depression', 'Anxiety', 'Unknown', 'Burnout'], dtype=object),\n",
       " 'Access_to_Mental_Health_Resources': array(['No', 'Yes'], dtype=object),\n",
       " 'Productivity_Change': array(['Decrease', 'Increase', 'No Change'], dtype=object),\n",
       " 'Satisfaction_with_Remote_Work': array(['Unsatisfied', 'Satisfied', 'Neutral'], dtype=object),\n",
       " 'Physical_Activity': array(['Weekly', 'Occasional or Never', 'Daily'], dtype=object),\n",
       " 'Sleep_Quality': array(['Good', 'Poor', 'Average'], dtype=object),\n",
       " 'Region': array(['Europe', 'Asia', 'North America', 'South America', 'Oceania',\n",
       "        'Africa'], dtype=object)}"
      ]
     },
     "execution_count": 32,
     "metadata": {},
     "output_type": "execute_result"
    }
   ],
   "source": [
    "unique_values"
   ]
  },
  {
   "cell_type": "code",
   "execution_count": 33,
   "id": "c398fa97-a188-49e8-aa31-e14f00b41542",
   "metadata": {},
   "outputs": [],
   "source": [
    "categorical_columns = [\n",
    "    'Gender', 'Job_Role', 'Industry', 'Work_Location', 'Stress_Level',\n",
    "    'Mental_Health_Condition', 'Access_to_Mental_Health_Resources',\n",
    "    'Productivity_Change', 'Satisfaction_with_Remote_Work', 'Physical_Activity',\n",
    "    'Sleep_Quality', 'Region'\n",
    "]\n",
    "\n",
    "for column in categorical_columns:\n",
    "    df[column] = df[column].astype('category')"
   ]
  },
  {
   "cell_type": "code",
   "execution_count": 34,
   "id": "a6800e99-ff15-4ec7-a88f-9979f348589d",
   "metadata": {},
   "outputs": [
    {
     "name": "stdout",
     "output_type": "stream",
     "text": [
      "<class 'pandas.core.frame.DataFrame'>\n",
      "RangeIndex: 5000 entries, 0 to 4999\n",
      "Data columns (total 20 columns):\n",
      " #   Column                             Non-Null Count  Dtype   \n",
      "---  ------                             --------------  -----   \n",
      " 0   Employee_ID                        5000 non-null   object  \n",
      " 1   Age                                5000 non-null   int64   \n",
      " 2   Gender                             5000 non-null   category\n",
      " 3   Job_Role                           5000 non-null   category\n",
      " 4   Industry                           5000 non-null   category\n",
      " 5   Years_of_Experience                5000 non-null   int64   \n",
      " 6   Work_Location                      5000 non-null   category\n",
      " 7   Hours_Worked_Per_Week              5000 non-null   int64   \n",
      " 8   Number_of_Virtual_Meetings         5000 non-null   int64   \n",
      " 9   Work_Life_Balance_Rating           5000 non-null   int64   \n",
      " 10  Stress_Level                       5000 non-null   category\n",
      " 11  Mental_Health_Condition            5000 non-null   category\n",
      " 12  Access_to_Mental_Health_Resources  5000 non-null   category\n",
      " 13  Productivity_Change                5000 non-null   category\n",
      " 14  Social_Isolation_Rating            5000 non-null   int64   \n",
      " 15  Satisfaction_with_Remote_Work      5000 non-null   category\n",
      " 16  Company_Support_for_Remote_Work    5000 non-null   int64   \n",
      " 17  Physical_Activity                  5000 non-null   category\n",
      " 18  Sleep_Quality                      5000 non-null   category\n",
      " 19  Region                             5000 non-null   category\n",
      "dtypes: category(12), int64(7), object(1)\n",
      "memory usage: 373.4+ KB\n"
     ]
    }
   ],
   "source": [
    "df.info()"
   ]
  },
  {
   "cell_type": "code",
   "execution_count": 35,
   "id": "ac662361-74cb-4398-b886-0da3bc734c78",
   "metadata": {},
   "outputs": [],
   "source": [
    "df.to_csv('Data/Cleaned_Impact_of_Remote_Work_on_Mental_Health.csv', index = False)"
   ]
  },
  {
   "cell_type": "code",
   "execution_count": null,
   "id": "8d44041f-a5f8-4e20-9db6-98a4b6be4529",
   "metadata": {},
   "outputs": [],
   "source": []
  }
 ],
 "metadata": {
  "kernelspec": {
   "display_name": "Python 3 (ipykernel)",
   "language": "python",
   "name": "python3"
  },
  "language_info": {
   "codemirror_mode": {
    "name": "ipython",
    "version": 3
   },
   "file_extension": ".py",
   "mimetype": "text/x-python",
   "name": "python",
   "nbconvert_exporter": "python",
   "pygments_lexer": "ipython3",
   "version": "3.13.0"
  }
 },
 "nbformat": 4,
 "nbformat_minor": 5
}
